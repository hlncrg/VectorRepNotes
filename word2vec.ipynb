{
 "cells": [
  {
   "cell_type": "markdown",
   "metadata": {},
   "source": [
    "# Word2Vec"
   ]
  },
  {
   "cell_type": "markdown",
   "metadata": {},
   "source": [
    "<img src='w2v.png'>"
   ]
  },
  {
   "cell_type": "markdown",
   "metadata": {},
   "source": [
    "# Skip-gram\n",
    "\n",
    "## Input layer\n",
    "The input layer is a sparse vector: \n",
    "$x= \\left( \\begin{array}{ccc}\n",
    "0  \\\\\n",
    "0  \\\\\n",
    "\\vdots \\\\\n",
    "0  \\\\\n",
    "1  \\\\\n",
    "0  \\\\\n",
    "\\vdots\n",
    "0 \\\\\n",
    "0 \\\\\n",
    "\\end{array} \\right)$\n",
    "\n",
    "which represents a word.\n",
    "\n"
   ]
  },
  {
   "cell_type": "markdown",
   "metadata": {},
   "source": []
  }
 ],
 "metadata": {
  "kernelspec": {
   "display_name": "Python 2",
   "language": "python",
   "name": "python2"
  },
  "language_info": {
   "codemirror_mode": {
    "name": "ipython",
    "version": 2
   },
   "file_extension": ".py",
   "mimetype": "text/x-python",
   "name": "python",
   "nbconvert_exporter": "python",
   "pygments_lexer": "ipython2",
   "version": "2.7.10"
  }
 },
 "nbformat": 4,
 "nbformat_minor": 0
}
