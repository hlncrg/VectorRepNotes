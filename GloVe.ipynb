{
 "cells": [
  {
   "cell_type": "markdown",
   "metadata": {},
   "source": [
    "# GloVe"
   ]
  },
  {
   "cell_type": "markdown",
   "metadata": {},
   "source": [
    "https://www.youtube.com/watch?v=RyTpzZQrHCs\n",
    "\n",
    "1. Word vector space have substructure\n",
    "2. Design algorithms with that structure in mind\n",
    "3. Older models are often better than you think\n",
    "\n",
    "<img src='cooccurTable.png'>"
   ]
  },
  {
   "cell_type": "markdown",
   "metadata": {},
   "source": [
    "Log-bilinear model: $w_i \\cdot w_j = \\log P(i|j)$\n",
    "\n",
    "vector differences: $w_x \\cdot (w_a-w_b) = \\log \\frac{P(x|a)}{P(x|b)}$\n",
    "\n",
    "think: a='ice' and b='steam'\n"
   ]
  },
  {
   "cell_type": "markdown",
   "metadata": {},
   "source": [
    "# Code\n"
   ]
  },
  {
   "cell_type": "code",
   "execution_count": null,
   "metadata": {
    "collapsed": true
   },
   "outputs": [],
   "source": [
    "def build_cooccur(vocab, corpus, window_size=10, min_count=None):\n",
    "    vocab_size = len(vocab)\n",
    "    id2word = dict((i, word) for word, (i, _) in vocab.iteritems())\n",
    "\n",
    "    # Collect cooccurrences internally as a sparse matrix for\n",
    "    # passable indexing speed; we'll convert into a list later\n",
    "    cooccurrences = sparse.lil_matrix((vocab_size, vocab_size),\n",
    "                                      dtype=np.float64)\n",
    "# -- continued --\n",
    "    for i, line in enumerate(corpus):\n",
    "        tokens = line.strip().split()\n",
    "        token_ids = [vocab[word][0] for word in tokens]\n",
    "        \n",
    "# -- continued --\n",
    "        for center_i, center_id in enumerate(token_ids):\n",
    "            # Collect all word IDs in left window of center word\n",
    "            context_ids = token_ids[max(0, center_i - window_size)\n",
    "                                    : center_i]\n",
    "            contexts_len = len(context_ids)\n",
    "# -- continued --\n",
    "            for left_i, left_id in enumerate(context_ids):\n",
    "                # Distance from center word\n",
    "                distance = contexts_len - left_i\n",
    "\n",
    "                # Weight by inverse of distance between words\n",
    "                increment = 1.0 / float(distance)\n",
    "\n",
    "                # Build co-occurrence matrix symmetrically (pretend\n",
    "                # we are calculating right contexts as well)\n",
    "                cooccurrences[center_id, left_id] += increment\n",
    "                cooccurrences[left_id, center_id] += increment\n",
    "\n",
    "def train_glove(vocab, cooccurrences, vector_size=100,\n",
    "                iterations=25, **kwargs):\n"
   ]
  }
 ],
 "metadata": {
  "kernelspec": {
   "display_name": "Python 2",
   "language": "python",
   "name": "python2"
  },
  "language_info": {
   "codemirror_mode": {
    "name": "ipython",
    "version": 2
   },
   "file_extension": ".py",
   "mimetype": "text/x-python",
   "name": "python",
   "nbconvert_exporter": "python",
   "pygments_lexer": "ipython2",
   "version": "2.7.10"
  }
 },
 "nbformat": 4,
 "nbformat_minor": 0
}
